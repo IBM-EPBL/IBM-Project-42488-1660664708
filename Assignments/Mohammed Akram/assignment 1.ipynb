{
 "cells": [
  {
   "cell_type": "markdown",
   "id": "55d72df1",
   "metadata": {},
   "source": [
    "Basic python\n"
   ]
  },
  {
   "cell_type": "markdown",
   "id": "ad2e3fb8",
   "metadata": {},
   "source": [
    "1.split the string"
   ]
  },
  {
   "cell_type": "code",
   "execution_count": 28,
   "id": "4adbbd70",
   "metadata": {},
   "outputs": [],
   "source": [
    "s = \"Hi there ibm!\""
   ]
  },
  {
   "cell_type": "code",
   "execution_count": 29,
   "id": "7fa82104",
   "metadata": {},
   "outputs": [
    {
     "data": {
      "text/plain": [
       "['Hi', 'there', 'ibm!']"
      ]
     },
     "execution_count": 29,
     "metadata": {},
     "output_type": "execute_result"
    }
   ],
   "source": [
    "s.split()"
   ]
  },
  {
   "cell_type": "markdown",
   "id": "7468a3b2",
   "metadata": {},
   "source": [
    "2.Use .format() to print the following string."
   ]
  },
  {
   "cell_type": "markdown",
   "id": "a95816a6",
   "metadata": {},
   "source": [
    "Output should be: The diameter of Earth is 12742 kilometers."
   ]
  },
  {
   "cell_type": "code",
   "execution_count": null,
   "id": "fb1d928c",
   "metadata": {},
   "outputs": [],
   "source": [
    "\n"
   ]
  },
  {
   "cell_type": "code",
   "execution_count": 7,
   "id": "93b35801",
   "metadata": {},
   "outputs": [],
   "source": [
    " planet = \"Earth\"\n",
    "diameter = 12742"
   ]
  },
  {
   "cell_type": "code",
   "execution_count": 8,
   "id": "1fbc7fdd",
   "metadata": {},
   "outputs": [
    {
     "name": "stdout",
     "output_type": "stream",
     "text": [
      "The diameter of Earth is 12742 kilometers.\n"
     ]
    }
   ],
   "source": [
    "print(\"The diameter of {} is {} kilometers.\".format(planet,diameter))"
   ]
  },
  {
   "cell_type": "markdown",
   "id": "77104e39",
   "metadata": {},
   "source": [
    " 3. In this nest dictionary grab the word \"hello\""
   ]
  },
  {
   "cell_type": "code",
   "execution_count": null,
   "id": "d52982e4",
   "metadata": {},
   "outputs": [],
   "source": []
  },
  {
   "cell_type": "code",
   "execution_count": 12,
   "id": "739ced9c",
   "metadata": {},
   "outputs": [],
   "source": [
    "d = {'k1':[1,2,3,{'tricky':['oh','man','inception',{'target':[1,2,3,'hello ibm']}]}]}"
   ]
  },
  {
   "cell_type": "code",
   "execution_count": 13,
   "id": "16bbf361",
   "metadata": {},
   "outputs": [
    {
     "data": {
      "text/plain": [
       "'hello ibm'"
      ]
     },
     "execution_count": 13,
     "metadata": {},
     "output_type": "execute_result"
    }
   ],
   "source": [
    "d['k1'][3]['tricky'][3]['target'][3]"
   ]
  },
  {
   "cell_type": "markdown",
   "id": "4c92925d",
   "metadata": {},
   "source": [
    "4.numpy"
   ]
  },
  {
   "cell_type": "code",
   "execution_count": 5,
   "id": "98afe873",
   "metadata": {},
   "outputs": [],
   "source": [
    "import numpy as np"
   ]
  },
  {
   "cell_type": "markdown",
   "id": "7a2e6f3a",
   "metadata": {},
   "source": [
    "4.1 Create an array of 10 zeros?"
   ]
  },
  {
   "cell_type": "markdown",
   "id": "55f85484",
   "metadata": {},
   "source": [
    "4.2 Create an array of 10 fives?"
   ]
  },
  {
   "cell_type": "code",
   "execution_count": 6,
   "id": "70e00c65",
   "metadata": {},
   "outputs": [
    {
     "name": "stdout",
     "output_type": "stream",
     "text": [
      "[0. 0. 0. 0. 0. 0. 0. 0. 0. 0.]\n",
      "[5. 5. 5. 5. 5. 5. 5. 5. 5. 5.]\n"
     ]
    }
   ],
   "source": [
    "array=np.zeros(10)\n",
    "array1=np.ones(10)*5\n",
    "print(array)\n",
    "print(array1)"
   ]
  },
  {
   "cell_type": "markdown",
   "id": "9d3e27cf",
   "metadata": {},
   "source": [
    "5. Create an array of all the even integers from 20 to 35"
   ]
  },
  {
   "cell_type": "code",
   "execution_count": 7,
   "id": "7c557c59",
   "metadata": {},
   "outputs": [
    {
     "name": "stdout",
     "output_type": "stream",
     "text": [
      "[20 22 24 26 28 30 32 34]\n"
     ]
    }
   ],
   "source": [
    "arr=np.arange(20,35,2)\n",
    "print(arr)"
   ]
  },
  {
   "cell_type": "markdown",
   "id": "b49eac2f",
   "metadata": {},
   "source": [
    "\n",
    "6. Create a 3x3 matrix with values ranging from 0 to 8"
   ]
  },
  {
   "cell_type": "code",
   "execution_count": 8,
   "id": "b36c4ab2",
   "metadata": {},
   "outputs": [
    {
     "name": "stdout",
     "output_type": "stream",
     "text": [
      "[[0 1 2]\n",
      " [3 4 5]\n",
      " [6 7 8]]\n"
     ]
    }
   ],
   "source": [
    "t=np.arange(0,9).reshape(3,3)\n",
    "print(t)"
   ]
  },
  {
   "cell_type": "markdown",
   "id": "8c6c4228",
   "metadata": {},
   "source": [
    "7. Concatenate x and y"
   ]
  },
  {
   "cell_type": "markdown",
   "id": "ebecff07",
   "metadata": {},
   "source": [
    "x= np.array([1, 2, 3]), y = np.array([4, 5, 6])"
   ]
  },
  {
   "cell_type": "code",
   "execution_count": 11,
   "id": "ab9014c6",
   "metadata": {},
   "outputs": [
    {
     "name": "stdout",
     "output_type": "stream",
     "text": [
      "[1 2 4 5]\n"
     ]
    }
   ],
   "source": [
    "x = np.array([1, 2])\n",
    "y = np.array([4, 5])\n",
    "z=np.concatenate((x,y))\n",
    "print(z)"
   ]
  },
  {
   "cell_type": "markdown",
   "id": "e7ce0e7f",
   "metadata": {},
   "source": [
    "Pandas"
   ]
  },
  {
   "cell_type": "markdown",
   "id": "3405e54f",
   "metadata": {},
   "source": [
    "8. Create a dataframe with 3 rows and 2 columns"
   ]
  },
  {
   "cell_type": "code",
   "execution_count": 10,
   "id": "5f470282",
   "metadata": {},
   "outputs": [],
   "source": [
    "import pandas as pd"
   ]
  },
  {
   "cell_type": "code",
   "execution_count": 14,
   "id": "f0d1a8d6",
   "metadata": {},
   "outputs": [
    {
     "data": {
      "text/html": [
       "<div>\n",
       "<style scoped>\n",
       "    .dataframe tbody tr th:only-of-type {\n",
       "        vertical-align: middle;\n",
       "    }\n",
       "\n",
       "    .dataframe tbody tr th {\n",
       "        vertical-align: top;\n",
       "    }\n",
       "\n",
       "    .dataframe thead th {\n",
       "        text-align: right;\n",
       "    }\n",
       "</style>\n",
       "<table border=\"1\" class=\"dataframe\">\n",
       "  <thead>\n",
       "    <tr style=\"text-align: right;\">\n",
       "      <th></th>\n",
       "      <th>0</th>\n",
       "      <th>1</th>\n",
       "    </tr>\n",
       "  </thead>\n",
       "  <tbody>\n",
       "    <tr>\n",
       "      <th>0</th>\n",
       "      <td>1</td>\n",
       "      <td>2</td>\n",
       "    </tr>\n",
       "    <tr>\n",
       "      <th>1</th>\n",
       "      <td>4</td>\n",
       "      <td>5</td>\n",
       "    </tr>\n",
       "    <tr>\n",
       "      <th>2</th>\n",
       "      <td>6</td>\n",
       "      <td>7</td>\n",
       "    </tr>\n",
       "  </tbody>\n",
       "</table>\n",
       "</div>"
      ],
      "text/plain": [
       "   0  1\n",
       "0  1  2\n",
       "1  4  5\n",
       "2  6  7"
      ]
     },
     "execution_count": 14,
     "metadata": {},
     "output_type": "execute_result"
    }
   ],
   "source": [
    "x=[1,2]\n",
    "y=[4,5]\n",
    "z=[6,7]\n",
    "data=pd.DataFrame([x,y,z])\n",
    "data"
   ]
  },
  {
   "cell_type": "markdown",
   "id": "2226b4f9",
   "metadata": {},
   "source": [
    "9. Generate the series of dates from 1st Jan, 2023 to 10th Feb, 2023"
   ]
  },
  {
   "cell_type": "code",
   "execution_count": 15,
   "id": "cad350f5",
   "metadata": {},
   "outputs": [
    {
     "data": {
      "text/plain": [
       "DatetimeIndex(['2023-01-01', '2023-01-02', '2023-01-03', '2023-01-04',\n",
       "               '2023-01-05', '2023-01-06', '2023-01-07', '2023-01-08',\n",
       "               '2023-01-09', '2023-01-10',\n",
       "               ...\n",
       "               '2023-09-23', '2023-09-24', '2023-09-25', '2023-09-26',\n",
       "               '2023-09-27', '2023-09-28', '2023-09-29', '2023-09-30',\n",
       "               '2023-10-01', '2023-10-02'],\n",
       "              dtype='datetime64[ns]', length=275, freq='D')"
      ]
     },
     "execution_count": 15,
     "metadata": {},
     "output_type": "execute_result"
    }
   ],
   "source": [
    "dates=pd.date_range(start='1-1-2023',end='10-2-2023')\n",
    "dates"
   ]
  },
  {
   "cell_type": "markdown",
   "id": "daa00083",
   "metadata": {},
   "source": [
    "10. Create 2D list to DataFrame\n",
    "\n"
   ]
  },
  {
   "cell_type": "markdown",
   "id": "43472268",
   "metadata": {},
   "source": [
    "lists = [[1, 'aaa', 22], [2, 'bbb', 25], [3, 'ccc', 24]]"
   ]
  },
  {
   "cell_type": "code",
   "execution_count": 25,
   "id": "141a7599",
   "metadata": {},
   "outputs": [],
   "source": [
    "lists = [[1, 'aaa', 22], [2, 'bbb', 25], [3, 'ccc', 24]]"
   ]
  },
  {
   "cell_type": "code",
   "execution_count": 26,
   "id": "a222ccd0",
   "metadata": {},
   "outputs": [],
   "source": [
    "df=pd.DataFrame(lists)"
   ]
  },
  {
   "cell_type": "code",
   "execution_count": 27,
   "id": "b374fa9f",
   "metadata": {},
   "outputs": [
    {
     "data": {
      "text/html": [
       "<div>\n",
       "<style scoped>\n",
       "    .dataframe tbody tr th:only-of-type {\n",
       "        vertical-align: middle;\n",
       "    }\n",
       "\n",
       "    .dataframe tbody tr th {\n",
       "        vertical-align: top;\n",
       "    }\n",
       "\n",
       "    .dataframe thead th {\n",
       "        text-align: right;\n",
       "    }\n",
       "</style>\n",
       "<table border=\"1\" class=\"dataframe\">\n",
       "  <thead>\n",
       "    <tr style=\"text-align: right;\">\n",
       "      <th></th>\n",
       "      <th>0</th>\n",
       "      <th>1</th>\n",
       "      <th>2</th>\n",
       "    </tr>\n",
       "  </thead>\n",
       "  <tbody>\n",
       "    <tr>\n",
       "      <th>0</th>\n",
       "      <td>1</td>\n",
       "      <td>aaa</td>\n",
       "      <td>22</td>\n",
       "    </tr>\n",
       "    <tr>\n",
       "      <th>1</th>\n",
       "      <td>2</td>\n",
       "      <td>bbb</td>\n",
       "      <td>25</td>\n",
       "    </tr>\n",
       "    <tr>\n",
       "      <th>2</th>\n",
       "      <td>3</td>\n",
       "      <td>ccc</td>\n",
       "      <td>24</td>\n",
       "    </tr>\n",
       "  </tbody>\n",
       "</table>\n",
       "</div>"
      ],
      "text/plain": [
       "   0    1   2\n",
       "0  1  aaa  22\n",
       "1  2  bbb  25\n",
       "2  3  ccc  24"
      ]
     },
     "execution_count": 27,
     "metadata": {},
     "output_type": "execute_result"
    }
   ],
   "source": [
    "df"
   ]
  },
  {
   "cell_type": "code",
   "execution_count": null,
   "id": "c805a82a",
   "metadata": {},
   "outputs": [],
   "source": []
  },
  {
   "cell_type": "code",
   "execution_count": null,
   "id": "9e94a52d",
   "metadata": {},
   "outputs": [],
   "source": []
  }
 ],
 "metadata": {
  "kernelspec": {
   "display_name": "Python 3 (ipykernel)",
   "language": "python",
   "name": "python3"
  },
  "language_info": {
   "codemirror_mode": {
    "name": "ipython",
    "version": 3
   },
   "file_extension": ".py",
   "mimetype": "text/x-python",
   "name": "python",
   "nbconvert_exporter": "python",
   "pygments_lexer": "ipython3",
   "version": "3.9.12"
  }
 },
 "nbformat": 4,
 "nbformat_minor": 5
}
